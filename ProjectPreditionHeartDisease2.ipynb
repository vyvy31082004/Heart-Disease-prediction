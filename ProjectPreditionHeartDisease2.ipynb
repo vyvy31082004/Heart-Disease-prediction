{
 "cells": [
  {
   "cell_type": "code",
   "execution_count": 417,
   "metadata": {},
   "outputs": [],
   "source": [
    "import numpy as np\n",
    "import pandas as pd \n",
    "import matplotlib.pyplot as plt\n",
    "from sklearn.model_selection import train_test_split\n",
    "from sklearn.linear_model import LogisticRegression\n",
    "from sklearn.metrics import accuracy_score\n",
    "import seaborn as sns \n",
    "from matplotlib.colors import ListedColormap\n",
    "from sklearn.ensemble import RandomForestClassifier, RandomForestRegressor\n",
    "from sklearn.experimental import enable_iterative_imputer\n",
    "from sklearn.impute import IterativeImputer\n",
    "from sklearn.preprocessing import LabelEncoder\n",
    "from sklearn.metrics import accuracy_score \n",
    "from sklearn.metrics import mean_absolute_error, root_mean_squared_error,r2_score,precision_score,recall_score,f1_score\n",
    "import warnings\n",
    "warnings.filterwarnings('ignore')\n",
    "from sklearn.tree import DecisionTreeClassifier\n"
   ]
  },
  {
   "cell_type": "code",
   "execution_count": 418,
   "metadata": {},
   "outputs": [],
   "source": [
    "#Part1: Data collection and Processing"
   ]
  },
  {
   "cell_type": "code",
   "execution_count": 419,
   "metadata": {},
   "outputs": [
    {
     "data": {
      "text/html": [
       "<div>\n",
       "<style scoped>\n",
       "    .dataframe tbody tr th:only-of-type {\n",
       "        vertical-align: middle;\n",
       "    }\n",
       "\n",
       "    .dataframe tbody tr th {\n",
       "        vertical-align: top;\n",
       "    }\n",
       "\n",
       "    .dataframe thead th {\n",
       "        text-align: right;\n",
       "    }\n",
       "</style>\n",
       "<table border=\"1\" class=\"dataframe\">\n",
       "  <thead>\n",
       "    <tr style=\"text-align: right;\">\n",
       "      <th></th>\n",
       "      <th>id</th>\n",
       "      <th>age</th>\n",
       "      <th>sex</th>\n",
       "      <th>dataset</th>\n",
       "      <th>cp</th>\n",
       "      <th>trestbps</th>\n",
       "      <th>chol</th>\n",
       "      <th>fbs</th>\n",
       "      <th>restecg</th>\n",
       "      <th>thalch</th>\n",
       "      <th>exang</th>\n",
       "      <th>oldpeak</th>\n",
       "      <th>slope</th>\n",
       "      <th>ca</th>\n",
       "      <th>thal</th>\n",
       "      <th>num</th>\n",
       "    </tr>\n",
       "  </thead>\n",
       "  <tbody>\n",
       "    <tr>\n",
       "      <th>0</th>\n",
       "      <td>1</td>\n",
       "      <td>63</td>\n",
       "      <td>Male</td>\n",
       "      <td>Cleveland</td>\n",
       "      <td>typical angina</td>\n",
       "      <td>145.0</td>\n",
       "      <td>233.0</td>\n",
       "      <td>True</td>\n",
       "      <td>lv hypertrophy</td>\n",
       "      <td>150.0</td>\n",
       "      <td>False</td>\n",
       "      <td>2.3</td>\n",
       "      <td>downsloping</td>\n",
       "      <td>0.0</td>\n",
       "      <td>fixed defect</td>\n",
       "      <td>0</td>\n",
       "    </tr>\n",
       "    <tr>\n",
       "      <th>1</th>\n",
       "      <td>2</td>\n",
       "      <td>67</td>\n",
       "      <td>Male</td>\n",
       "      <td>Cleveland</td>\n",
       "      <td>asymptomatic</td>\n",
       "      <td>160.0</td>\n",
       "      <td>286.0</td>\n",
       "      <td>False</td>\n",
       "      <td>lv hypertrophy</td>\n",
       "      <td>108.0</td>\n",
       "      <td>True</td>\n",
       "      <td>1.5</td>\n",
       "      <td>flat</td>\n",
       "      <td>3.0</td>\n",
       "      <td>normal</td>\n",
       "      <td>2</td>\n",
       "    </tr>\n",
       "    <tr>\n",
       "      <th>2</th>\n",
       "      <td>3</td>\n",
       "      <td>67</td>\n",
       "      <td>Male</td>\n",
       "      <td>Cleveland</td>\n",
       "      <td>asymptomatic</td>\n",
       "      <td>120.0</td>\n",
       "      <td>229.0</td>\n",
       "      <td>False</td>\n",
       "      <td>lv hypertrophy</td>\n",
       "      <td>129.0</td>\n",
       "      <td>True</td>\n",
       "      <td>2.6</td>\n",
       "      <td>flat</td>\n",
       "      <td>2.0</td>\n",
       "      <td>reversable defect</td>\n",
       "      <td>1</td>\n",
       "    </tr>\n",
       "    <tr>\n",
       "      <th>3</th>\n",
       "      <td>4</td>\n",
       "      <td>37</td>\n",
       "      <td>Male</td>\n",
       "      <td>Cleveland</td>\n",
       "      <td>non-anginal</td>\n",
       "      <td>130.0</td>\n",
       "      <td>250.0</td>\n",
       "      <td>False</td>\n",
       "      <td>normal</td>\n",
       "      <td>187.0</td>\n",
       "      <td>False</td>\n",
       "      <td>3.5</td>\n",
       "      <td>downsloping</td>\n",
       "      <td>0.0</td>\n",
       "      <td>normal</td>\n",
       "      <td>0</td>\n",
       "    </tr>\n",
       "    <tr>\n",
       "      <th>4</th>\n",
       "      <td>5</td>\n",
       "      <td>41</td>\n",
       "      <td>Female</td>\n",
       "      <td>Cleveland</td>\n",
       "      <td>atypical angina</td>\n",
       "      <td>130.0</td>\n",
       "      <td>204.0</td>\n",
       "      <td>False</td>\n",
       "      <td>lv hypertrophy</td>\n",
       "      <td>172.0</td>\n",
       "      <td>False</td>\n",
       "      <td>1.4</td>\n",
       "      <td>upsloping</td>\n",
       "      <td>0.0</td>\n",
       "      <td>normal</td>\n",
       "      <td>0</td>\n",
       "    </tr>\n",
       "    <tr>\n",
       "      <th>...</th>\n",
       "      <td>...</td>\n",
       "      <td>...</td>\n",
       "      <td>...</td>\n",
       "      <td>...</td>\n",
       "      <td>...</td>\n",
       "      <td>...</td>\n",
       "      <td>...</td>\n",
       "      <td>...</td>\n",
       "      <td>...</td>\n",
       "      <td>...</td>\n",
       "      <td>...</td>\n",
       "      <td>...</td>\n",
       "      <td>...</td>\n",
       "      <td>...</td>\n",
       "      <td>...</td>\n",
       "      <td>...</td>\n",
       "    </tr>\n",
       "    <tr>\n",
       "      <th>915</th>\n",
       "      <td>916</td>\n",
       "      <td>54</td>\n",
       "      <td>Female</td>\n",
       "      <td>VA Long Beach</td>\n",
       "      <td>asymptomatic</td>\n",
       "      <td>127.0</td>\n",
       "      <td>333.0</td>\n",
       "      <td>True</td>\n",
       "      <td>st-t abnormality</td>\n",
       "      <td>154.0</td>\n",
       "      <td>False</td>\n",
       "      <td>0.0</td>\n",
       "      <td>NaN</td>\n",
       "      <td>NaN</td>\n",
       "      <td>NaN</td>\n",
       "      <td>1</td>\n",
       "    </tr>\n",
       "    <tr>\n",
       "      <th>916</th>\n",
       "      <td>917</td>\n",
       "      <td>62</td>\n",
       "      <td>Male</td>\n",
       "      <td>VA Long Beach</td>\n",
       "      <td>typical angina</td>\n",
       "      <td>NaN</td>\n",
       "      <td>139.0</td>\n",
       "      <td>False</td>\n",
       "      <td>st-t abnormality</td>\n",
       "      <td>NaN</td>\n",
       "      <td>NaN</td>\n",
       "      <td>NaN</td>\n",
       "      <td>NaN</td>\n",
       "      <td>NaN</td>\n",
       "      <td>NaN</td>\n",
       "      <td>0</td>\n",
       "    </tr>\n",
       "    <tr>\n",
       "      <th>917</th>\n",
       "      <td>918</td>\n",
       "      <td>55</td>\n",
       "      <td>Male</td>\n",
       "      <td>VA Long Beach</td>\n",
       "      <td>asymptomatic</td>\n",
       "      <td>122.0</td>\n",
       "      <td>223.0</td>\n",
       "      <td>True</td>\n",
       "      <td>st-t abnormality</td>\n",
       "      <td>100.0</td>\n",
       "      <td>False</td>\n",
       "      <td>0.0</td>\n",
       "      <td>NaN</td>\n",
       "      <td>NaN</td>\n",
       "      <td>fixed defect</td>\n",
       "      <td>2</td>\n",
       "    </tr>\n",
       "    <tr>\n",
       "      <th>918</th>\n",
       "      <td>919</td>\n",
       "      <td>58</td>\n",
       "      <td>Male</td>\n",
       "      <td>VA Long Beach</td>\n",
       "      <td>asymptomatic</td>\n",
       "      <td>NaN</td>\n",
       "      <td>385.0</td>\n",
       "      <td>True</td>\n",
       "      <td>lv hypertrophy</td>\n",
       "      <td>NaN</td>\n",
       "      <td>NaN</td>\n",
       "      <td>NaN</td>\n",
       "      <td>NaN</td>\n",
       "      <td>NaN</td>\n",
       "      <td>NaN</td>\n",
       "      <td>0</td>\n",
       "    </tr>\n",
       "    <tr>\n",
       "      <th>919</th>\n",
       "      <td>920</td>\n",
       "      <td>62</td>\n",
       "      <td>Male</td>\n",
       "      <td>VA Long Beach</td>\n",
       "      <td>atypical angina</td>\n",
       "      <td>120.0</td>\n",
       "      <td>254.0</td>\n",
       "      <td>False</td>\n",
       "      <td>lv hypertrophy</td>\n",
       "      <td>93.0</td>\n",
       "      <td>True</td>\n",
       "      <td>0.0</td>\n",
       "      <td>NaN</td>\n",
       "      <td>NaN</td>\n",
       "      <td>NaN</td>\n",
       "      <td>1</td>\n",
       "    </tr>\n",
       "  </tbody>\n",
       "</table>\n",
       "<p>920 rows × 16 columns</p>\n",
       "</div>"
      ],
      "text/plain": [
       "      id  age     sex        dataset               cp  trestbps   chol    fbs  \\\n",
       "0      1   63    Male      Cleveland   typical angina     145.0  233.0   True   \n",
       "1      2   67    Male      Cleveland     asymptomatic     160.0  286.0  False   \n",
       "2      3   67    Male      Cleveland     asymptomatic     120.0  229.0  False   \n",
       "3      4   37    Male      Cleveland      non-anginal     130.0  250.0  False   \n",
       "4      5   41  Female      Cleveland  atypical angina     130.0  204.0  False   \n",
       "..   ...  ...     ...            ...              ...       ...    ...    ...   \n",
       "915  916   54  Female  VA Long Beach     asymptomatic     127.0  333.0   True   \n",
       "916  917   62    Male  VA Long Beach   typical angina       NaN  139.0  False   \n",
       "917  918   55    Male  VA Long Beach     asymptomatic     122.0  223.0   True   \n",
       "918  919   58    Male  VA Long Beach     asymptomatic       NaN  385.0   True   \n",
       "919  920   62    Male  VA Long Beach  atypical angina     120.0  254.0  False   \n",
       "\n",
       "              restecg  thalch  exang  oldpeak        slope   ca  \\\n",
       "0      lv hypertrophy   150.0  False      2.3  downsloping  0.0   \n",
       "1      lv hypertrophy   108.0   True      1.5         flat  3.0   \n",
       "2      lv hypertrophy   129.0   True      2.6         flat  2.0   \n",
       "3              normal   187.0  False      3.5  downsloping  0.0   \n",
       "4      lv hypertrophy   172.0  False      1.4    upsloping  0.0   \n",
       "..                ...     ...    ...      ...          ...  ...   \n",
       "915  st-t abnormality   154.0  False      0.0          NaN  NaN   \n",
       "916  st-t abnormality     NaN    NaN      NaN          NaN  NaN   \n",
       "917  st-t abnormality   100.0  False      0.0          NaN  NaN   \n",
       "918    lv hypertrophy     NaN    NaN      NaN          NaN  NaN   \n",
       "919    lv hypertrophy    93.0   True      0.0          NaN  NaN   \n",
       "\n",
       "                  thal  num  \n",
       "0         fixed defect    0  \n",
       "1               normal    2  \n",
       "2    reversable defect    1  \n",
       "3               normal    0  \n",
       "4               normal    0  \n",
       "..                 ...  ...  \n",
       "915                NaN    1  \n",
       "916                NaN    0  \n",
       "917       fixed defect    2  \n",
       "918                NaN    0  \n",
       "919                NaN    1  \n",
       "\n",
       "[920 rows x 16 columns]"
      ]
     },
     "execution_count": 419,
     "metadata": {},
     "output_type": "execute_result"
    }
   ],
   "source": [
    "#load the data csv to a pandas dataframe\n",
    "data=pd.read_csv('heart_disease_uci.csv')\n",
    "data "
   ]
  },
  {
   "cell_type": "code",
   "execution_count": 420,
   "metadata": {},
   "outputs": [
    {
     "data": {
      "text/plain": [
       "(920, 16)"
      ]
     },
     "execution_count": 420,
     "metadata": {},
     "output_type": "execute_result"
    }
   ],
   "source": [
    "#number of rows and columns in data\n",
    "data.shape"
   ]
  },
  {
   "cell_type": "code",
   "execution_count": 421,
   "metadata": {},
   "outputs": [
    {
     "name": "stdout",
     "output_type": "stream",
     "text": [
      "<class 'pandas.core.frame.DataFrame'>\n",
      "RangeIndex: 920 entries, 0 to 919\n",
      "Data columns (total 16 columns):\n",
      " #   Column    Non-Null Count  Dtype  \n",
      "---  ------    --------------  -----  \n",
      " 0   id        920 non-null    int64  \n",
      " 1   age       920 non-null    int64  \n",
      " 2   sex       920 non-null    object \n",
      " 3   dataset   920 non-null    object \n",
      " 4   cp        920 non-null    object \n",
      " 5   trestbps  861 non-null    float64\n",
      " 6   chol      890 non-null    float64\n",
      " 7   fbs       830 non-null    object \n",
      " 8   restecg   918 non-null    object \n",
      " 9   thalch    865 non-null    float64\n",
      " 10  exang     865 non-null    object \n",
      " 11  oldpeak   858 non-null    float64\n",
      " 12  slope     611 non-null    object \n",
      " 13  ca        309 non-null    float64\n",
      " 14  thal      434 non-null    object \n",
      " 15  num       920 non-null    int64  \n",
      "dtypes: float64(5), int64(3), object(8)\n",
      "memory usage: 115.1+ KB\n"
     ]
    }
   ],
   "source": [
    "#check information of column, type of data in column, and number of rows that have non-null value\n",
    "data.info()"
   ]
  },
  {
   "cell_type": "code",
   "execution_count": 422,
   "metadata": {},
   "outputs": [
    {
     "data": {
      "text/plain": [
       "id            0\n",
       "age           0\n",
       "sex           0\n",
       "dataset       0\n",
       "cp            0\n",
       "trestbps     59\n",
       "chol         30\n",
       "fbs          90\n",
       "restecg       2\n",
       "thalch       55\n",
       "exang        55\n",
       "oldpeak      62\n",
       "slope       309\n",
       "ca          611\n",
       "thal        486\n",
       "num           0\n",
       "dtype: int64"
      ]
     },
     "execution_count": 422,
     "metadata": {},
     "output_type": "execute_result"
    }
   ],
   "source": [
    "#check the null values\n",
    "data.isnull().sum()"
   ]
  },
  {
   "cell_type": "code",
   "execution_count": 423,
   "metadata": {},
   "outputs": [
    {
     "data": {
      "text/html": [
       "<div>\n",
       "<style scoped>\n",
       "    .dataframe tbody tr th:only-of-type {\n",
       "        vertical-align: middle;\n",
       "    }\n",
       "\n",
       "    .dataframe tbody tr th {\n",
       "        vertical-align: top;\n",
       "    }\n",
       "\n",
       "    .dataframe thead th {\n",
       "        text-align: right;\n",
       "    }\n",
       "</style>\n",
       "<table border=\"1\" class=\"dataframe\">\n",
       "  <thead>\n",
       "    <tr style=\"text-align: right;\">\n",
       "      <th></th>\n",
       "      <th>id</th>\n",
       "      <th>age</th>\n",
       "      <th>trestbps</th>\n",
       "      <th>chol</th>\n",
       "      <th>thalch</th>\n",
       "      <th>oldpeak</th>\n",
       "      <th>ca</th>\n",
       "      <th>num</th>\n",
       "    </tr>\n",
       "  </thead>\n",
       "  <tbody>\n",
       "    <tr>\n",
       "      <th>count</th>\n",
       "      <td>920.000000</td>\n",
       "      <td>920.000000</td>\n",
       "      <td>861.000000</td>\n",
       "      <td>890.000000</td>\n",
       "      <td>865.000000</td>\n",
       "      <td>858.000000</td>\n",
       "      <td>309.000000</td>\n",
       "      <td>920.000000</td>\n",
       "    </tr>\n",
       "    <tr>\n",
       "      <th>mean</th>\n",
       "      <td>460.500000</td>\n",
       "      <td>53.510870</td>\n",
       "      <td>132.132404</td>\n",
       "      <td>199.130337</td>\n",
       "      <td>137.545665</td>\n",
       "      <td>0.878788</td>\n",
       "      <td>0.676375</td>\n",
       "      <td>0.995652</td>\n",
       "    </tr>\n",
       "    <tr>\n",
       "      <th>std</th>\n",
       "      <td>265.725422</td>\n",
       "      <td>9.424685</td>\n",
       "      <td>19.066070</td>\n",
       "      <td>110.780810</td>\n",
       "      <td>25.926276</td>\n",
       "      <td>1.091226</td>\n",
       "      <td>0.935653</td>\n",
       "      <td>1.142693</td>\n",
       "    </tr>\n",
       "    <tr>\n",
       "      <th>min</th>\n",
       "      <td>1.000000</td>\n",
       "      <td>28.000000</td>\n",
       "      <td>0.000000</td>\n",
       "      <td>0.000000</td>\n",
       "      <td>60.000000</td>\n",
       "      <td>-2.600000</td>\n",
       "      <td>0.000000</td>\n",
       "      <td>0.000000</td>\n",
       "    </tr>\n",
       "    <tr>\n",
       "      <th>25%</th>\n",
       "      <td>230.750000</td>\n",
       "      <td>47.000000</td>\n",
       "      <td>120.000000</td>\n",
       "      <td>175.000000</td>\n",
       "      <td>120.000000</td>\n",
       "      <td>0.000000</td>\n",
       "      <td>0.000000</td>\n",
       "      <td>0.000000</td>\n",
       "    </tr>\n",
       "    <tr>\n",
       "      <th>50%</th>\n",
       "      <td>460.500000</td>\n",
       "      <td>54.000000</td>\n",
       "      <td>130.000000</td>\n",
       "      <td>223.000000</td>\n",
       "      <td>140.000000</td>\n",
       "      <td>0.500000</td>\n",
       "      <td>0.000000</td>\n",
       "      <td>1.000000</td>\n",
       "    </tr>\n",
       "    <tr>\n",
       "      <th>75%</th>\n",
       "      <td>690.250000</td>\n",
       "      <td>60.000000</td>\n",
       "      <td>140.000000</td>\n",
       "      <td>268.000000</td>\n",
       "      <td>157.000000</td>\n",
       "      <td>1.500000</td>\n",
       "      <td>1.000000</td>\n",
       "      <td>2.000000</td>\n",
       "    </tr>\n",
       "    <tr>\n",
       "      <th>max</th>\n",
       "      <td>920.000000</td>\n",
       "      <td>77.000000</td>\n",
       "      <td>200.000000</td>\n",
       "      <td>603.000000</td>\n",
       "      <td>202.000000</td>\n",
       "      <td>6.200000</td>\n",
       "      <td>3.000000</td>\n",
       "      <td>4.000000</td>\n",
       "    </tr>\n",
       "  </tbody>\n",
       "</table>\n",
       "</div>"
      ],
      "text/plain": [
       "               id         age    trestbps        chol      thalch     oldpeak  \\\n",
       "count  920.000000  920.000000  861.000000  890.000000  865.000000  858.000000   \n",
       "mean   460.500000   53.510870  132.132404  199.130337  137.545665    0.878788   \n",
       "std    265.725422    9.424685   19.066070  110.780810   25.926276    1.091226   \n",
       "min      1.000000   28.000000    0.000000    0.000000   60.000000   -2.600000   \n",
       "25%    230.750000   47.000000  120.000000  175.000000  120.000000    0.000000   \n",
       "50%    460.500000   54.000000  130.000000  223.000000  140.000000    0.500000   \n",
       "75%    690.250000   60.000000  140.000000  268.000000  157.000000    1.500000   \n",
       "max    920.000000   77.000000  200.000000  603.000000  202.000000    6.200000   \n",
       "\n",
       "               ca         num  \n",
       "count  309.000000  920.000000  \n",
       "mean     0.676375    0.995652  \n",
       "std      0.935653    1.142693  \n",
       "min      0.000000    0.000000  \n",
       "25%      0.000000    0.000000  \n",
       "50%      0.000000    1.000000  \n",
       "75%      1.000000    2.000000  \n",
       "max      3.000000    4.000000  "
      ]
     },
     "execution_count": 423,
     "metadata": {},
     "output_type": "execute_result"
    }
   ],
   "source": [
    "#statiscial measure about data\n",
    "data.describe()"
   ]
  },
  {
   "cell_type": "code",
   "execution_count": 424,
   "metadata": {},
   "outputs": [
    {
     "name": "stdout",
     "output_type": "stream",
     "text": [
      "num\n",
      "0    411\n",
      "1    265\n",
      "2    109\n",
      "3    107\n",
      "4     28\n",
      "Name: count, dtype: int64\n"
     ]
    }
   ],
   "source": [
    "count= data['num'].value_counts()\n",
    "print(count)"
   ]
  },
  {
   "cell_type": "code",
   "execution_count": 425,
   "metadata": {},
   "outputs": [],
   "source": [
    "#plot"
   ]
  },
  {
   "cell_type": "code",
   "execution_count": 426,
   "metadata": {},
   "outputs": [
    {
     "data": {
      "text/plain": [
       "<Axes: title={'center': 'Heart Disease classification'}, xlabel='Type', ylabel='Count'>"
      ]
     },
     "execution_count": 426,
     "metadata": {},
     "output_type": "execute_result"
    },
    {
     "data": {
      "image/png": "[encoded data removed]",
      "text/plain": [
       "<Figure size 640x480 with 1 Axes>"
      ]
     },
     "metadata": {},
     "output_type": "display_data"
    }
   ],
   "source": [
    "plt.title(\"Heart Disease classification\")\n",
    "colors=[\"pink\",\"black\",\"red\",\"purple\",\"blue\"]\n",
    "plt.xlabel(\"Type\")\n",
    "plt.ylabel(\"Count\")\n",
    "sns.countplot(x=\"num\",data=data,hue=\"num\",palette=colors)"
   ]
  },
  {
   "cell_type": "code",
   "execution_count": 427,
   "metadata": {},
   "outputs": [],
   "source": [
    "#Part2: data cleaning and preprocessing"
   ]
  },
  {
   "cell_type": "code",
   "execution_count": 428,
   "metadata": {},
   "outputs": [],
   "source": [
    "#missing values"
   ]
  },
  {
   "cell_type": "code",
   "execution_count": 429,
   "metadata": {},
   "outputs": [
    {
     "data": {
      "text/plain": [
       "Text(0.5, 1.0, 'Missing Values')"
      ]
     },
     "execution_count": 429,
     "metadata": {},
     "output_type": "execute_result"
    },
    {
     "data": {
      "image/png": "[encoded data removed]",
      "text/plain": [
       "<Figure size 640x480 with 2 Axes>"
      ]
     },
     "metadata": {},
     "output_type": "display_data"
    }
   ],
   "source": [
    "custom_cmap = ListedColormap(['white', 'lightpink', 'pink', 'deeppink'])\n",
    "sns.heatmap(data.isnull(), yticklabels=False, cmap=custom_cmap,cbar=True)\n",
    "plt.title('Missing Values')"
   ]
  },
  {
   "cell_type": "code",
   "execution_count": 430,
   "metadata": {},
   "outputs": [
    {
     "data": {
      "text/plain": [
       "ca          66.41\n",
       "thal        52.83\n",
       "slope       33.59\n",
       "fbs          9.78\n",
       "oldpeak      6.74\n",
       "trestbps     6.41\n",
       "exang        5.98\n",
       "thalch       5.98\n",
       "chol         3.26\n",
       "restecg      0.22\n",
       "cp           0.00\n",
       "dataset      0.00\n",
       "id           0.00\n",
       "age          0.00\n",
       "sex          0.00\n",
       "num          0.00\n",
       "dtype: float64"
      ]
     },
     "execution_count": 430,
     "metadata": {},
     "output_type": "execute_result"
    }
   ],
   "source": [
    "round(((data.isnull().sum() / len(data)) * 100).sort_values(ascending=False),2)"
   ]
  },
  {
   "cell_type": "code",
   "execution_count": 431,
   "metadata": {},
   "outputs": [],
   "source": [
    "categorical_atrribute = ['thal', 'ca', 'slope', 'exang', 'restecg','fbs', 'cp', 'sex', 'num']\n",
    "bool_attribute = ['fbs', 'exang']\n",
    "numeric_attribute = ['oldpeak', 'thalch', 'chol', 'trestbps', 'age']"
   ]
  },
  {
   "cell_type": "code",
   "execution_count": 432,
   "metadata": {},
   "outputs": [],
   "source": [
    "# define the function to impute the missing values in thal column"
   ]
  },
  {
   "cell_type": "code",
   "execution_count": 433,
   "metadata": {},
   "outputs": [
    {
     "data": {
      "text/plain": [
       "['trestbps',\n",
       " 'chol',\n",
       " 'fbs',\n",
       " 'restecg',\n",
       " 'thalch',\n",
       " 'exang',\n",
       " 'oldpeak',\n",
       " 'slope',\n",
       " 'ca',\n",
       " 'thal']"
      ]
     },
     "execution_count": 433,
     "metadata": {},
     "output_type": "execute_result"
    }
   ],
   "source": [
    "data.isnull().sum()[data.isnull().sum() > 0].sort_values(ascending=False)\n",
    "missing_data_cols = data.isnull().sum()[data.isnull().sum() > 0].index.tolist()\n",
    "missing_data_cols"
   ]
  },
  {
   "cell_type": "code",
   "execution_count": 434,
   "metadata": {},
   "outputs": [],
   "source": [
    "\n",
    "def impute_categorical_missing_data(passed_col):\n",
    "    data_null = data[data[passed_col].isnull()]\n",
    "    data_not_null = data[data[passed_col].notnull()]\n",
    "\n",
    "    X = data_not_null.drop(passed_col, axis=1)\n",
    "    y = data_not_null[passed_col]\n",
    "    \n",
    "    other_missing_cols = [col for col in missing_data_cols if col != passed_col]\n",
    "    \n",
    "    label_encoder = LabelEncoder()\n",
    "\n",
    "    for col in X.columns:\n",
    "        if X[col].dtype == 'object' or X[col].dtype == 'category':\n",
    "            X[col] = label_encoder.fit_transform(X[col])\n",
    "\n",
    "    if passed_col in bool_attribute:\n",
    "        y = label_encoder.fit_transform(y)\n",
    "        \n",
    "    iterative_imputer = IterativeImputer(estimator=RandomForestRegressor(random_state=42), add_indicator=True)\n",
    "    \n",
    "    for col in X.columns:\n",
    "        if X[col].isnull().sum() > 0:\n",
    "            col_with_missing_values = X[col].values.reshape(-1, 1)\n",
    "            imputed_values = iterative_imputer.fit_transform(col_with_missing_values)\n",
    "            X[col] = imputed_values[:, 0]\n",
    "\n",
    "    X_train, X_test, y_train, y_test = train_test_split(X, y, test_size=0.2, random_state=42)\n",
    "\n",
    "    rf_classifier = RandomForestClassifier()\n",
    "\n",
    "    rf_classifier.fit(X_train, y_train)\n",
    "\n",
    "    y_pred = rf_classifier.predict(X_test)\n",
    "\n",
    "    acc_score = accuracy_score(y_test, y_pred)\n",
    "\n",
    "    print(\"The feature '\"+ passed_col+ \"' has been imputed with\", round((acc_score * 100), 2), \"accuracy\\n\")\n",
    "\n",
    "    X = data_null.drop(passed_col, axis=1)\n",
    "\n",
    "    for col in X.columns:\n",
    "        if X[col].dtype == 'object' or X[col].dtype == 'category':\n",
    "            X[col] = label_encoder.fit_transform(X[col])\n",
    "\n",
    "    for col in other_missing_cols:\n",
    "        if X[col].isnull().sum() > 0:\n",
    "            col_with_missing_values = X[col].values.reshape(-1, 1)\n",
    "            imputed_values = iterative_imputer.fit_transform(col_with_missing_values)\n",
    "            X[col] = imputed_values[:, 0]\n",
    "                \n",
    "    if len(data_null) > 0: \n",
    "        data_null[passed_col] = rf_classifier.predict(X)\n",
    "        if passed_col in bool_attribute:\n",
    "            data_null[passed_col] = data_null[passed_col].map({0: False, 1: True})\n",
    "\n",
    "    data_combined = pd.concat([data_not_null, data_null])\n",
    "    \n",
    "    return data_combined[passed_col]\n"
   ]
  },
  {
   "cell_type": "code",
   "execution_count": 435,
   "metadata": {},
   "outputs": [],
   "source": [
    "\n",
    "def impute_continuous_missing_data(passed_col):\n",
    "    \n",
    "    data_null = data[data[passed_col].isnull()]\n",
    "    data_not_null = data[data[passed_col].notnull()]\n",
    "\n",
    "    X = data_not_null.drop(passed_col, axis=1)\n",
    "    y = data_not_null[passed_col]\n",
    "    \n",
    "    other_missing_cols = [col for col in missing_data_cols if col != passed_col]\n",
    "    \n",
    "    label_encoder = LabelEncoder()\n",
    "    for col in X.columns:\n",
    "        if X[col].dtype == 'object' or X[col].dtype == 'category':\n",
    "            X[col] = label_encoder.fit_transform(X[col])\n",
    "    \n",
    "    iterative_imputer = IterativeImputer(estimator=RandomForestRegressor(random_state=42), add_indicator=True)\n",
    "\n",
    "    for col in other_missing_cols:\n",
    "        if X[col].isnull().sum() > 0:\n",
    "            col_with_missing_values = X[col].values.reshape(-1, 1)\n",
    "            imputed_values = iterative_imputer.fit_transform(col_with_missing_values)\n",
    "            X[col] = imputed_values[:, 0]\n",
    "        else:\n",
    "            pass\n",
    "    \n",
    "    X_train, X_test, y_train, y_test = train_test_split(X, y, test_size=0.2, random_state=42)\n",
    "\n",
    "    rf_regressor = RandomForestRegressor()\n",
    "\n",
    "    rf_regressor.fit(X_train, y_train)\n",
    "    y_pred = rf_regressor.predict(X_test)\n",
    "\n",
    "    print(\"MAE =\", mean_absolute_error(y_test, y_pred), \"\\n\")\n",
    "    print(\"RMSE =\", root_mean_squared_error(y_test, y_pred), \"\\n\")\n",
    "    print(\"R2 =\", r2_score(y_test, y_pred), \"\\n\")\n",
    "\n",
    "    X = data_null.drop(passed_col, axis=1)\n",
    "\n",
    "    for col in X.columns:\n",
    "        if X[col].dtype == 'object' or X[col].dtype == 'category':\n",
    "            X[col] = label_encoder.fit_transform(X[col])\n",
    "\n",
    "    for col in other_missing_cols:\n",
    "        if X[col].isnull().sum() > 0:\n",
    "            col_with_missing_values = X[col].values.reshape(-1, 1)\n",
    "            imputed_values = iterative_imputer.fit_transform(col_with_missing_values)\n",
    "            X[col] = imputed_values[:, 0]\n",
    "        else:\n",
    "             pass\n",
    "                \n",
    "    if len(data_null) > 0: \n",
    "        data_null[passed_col] = rf_regressor.predict(X)\n",
    "    else:\n",
    "        pass\n",
    "\n",
    "    data_combined = pd.concat([data_not_null, data_null])\n",
    "    \n",
    "    return data_combined[passed_col]"
   ]
  },
  {
   "cell_type": "code",
   "execution_count": 436,
   "metadata": {},
   "outputs": [
    {
     "name": "stdout",
     "output_type": "stream",
     "text": [
      "Missing Values trestbps : 6.41%\n",
      "MAE = 13.16098265895954 \n",
      "\n",
      "RMSE = 17.084421274629626 \n",
      "\n",
      "R2 = 0.08866438888061245 \n",
      "\n",
      "Missing Values chol : 3.26%\n",
      "MAE = 45.4229213483146 \n",
      "\n",
      "RMSE = 64.18075982302386 \n",
      "\n",
      "R2 = 0.6736915245901123 \n",
      "\n",
      "Missing Values fbs : 9.78%\n",
      "The feature 'fbs' has been imputed with 80.12 accuracy\n",
      "\n",
      "Missing Values restecg : 0.22%\n",
      "The feature 'restecg' has been imputed with 64.13 accuracy\n",
      "\n",
      "Missing Values thalch : 5.98%\n",
      "MAE = 16.60861271676301 \n",
      "\n",
      "RMSE = 21.537470413024543 \n",
      "\n",
      "R2 = 0.3255050518138365 \n",
      "\n",
      "Missing Values exang : 5.98%\n",
      "The feature 'exang' has been imputed with 78.03 accuracy\n",
      "\n",
      "Missing Values oldpeak : 6.74%\n",
      "MAE = 0.5672790697674419 \n",
      "\n",
      "RMSE = 0.7942745117401162 \n",
      "\n",
      "R2 = 0.39896578142877903 \n",
      "\n",
      "Missing Values slope : 33.59%\n",
      "The feature 'slope' has been imputed with 68.29 accuracy\n",
      "\n",
      "Missing Values ca : 66.41%\n",
      "The feature 'ca' has been imputed with 64.52 accuracy\n",
      "\n",
      "Missing Values thal : 52.83%\n",
      "The feature 'thal' has been imputed with 71.26 accuracy\n",
      "\n"
     ]
    }
   ],
   "source": [
    "# remove warning\n",
    "import warnings\n",
    "warnings.filterwarnings('ignore')\n",
    "\n",
    "# impute missing values using our functions\n",
    "for col in missing_data_cols:\n",
    "    print(\"Missing Values\", col, \":\", str(round((data[col].isnull().sum() / len(data)) * 100, 2))+\"%\")\n",
    "    if col in categorical_atrribute:\n",
    "        data[col] = impute_categorical_missing_data(col)\n",
    "    elif col in numeric_attribute:\n",
    "        data[col] = impute_continuous_missing_data(col)\n",
    "    else:\n",
    "        pass"
   ]
  },
  {
   "cell_type": "code",
   "execution_count": 437,
   "metadata": {},
   "outputs": [
    {
     "data": {
      "text/plain": [
       "id          0\n",
       "age         0\n",
       "sex         0\n",
       "dataset     0\n",
       "cp          0\n",
       "trestbps    0\n",
       "chol        0\n",
       "fbs         0\n",
       "restecg     0\n",
       "thalch      0\n",
       "exang       0\n",
       "oldpeak     0\n",
       "slope       0\n",
       "ca          0\n",
       "thal        0\n",
       "num         0\n",
       "dtype: int64"
      ]
     },
     "execution_count": 437,
     "metadata": {},
     "output_type": "execute_result"
    }
   ],
   "source": [
    "data.isnull().sum()"
   ]
  },
  {
   "cell_type": "code",
   "execution_count": 438,
   "metadata": {},
   "outputs": [],
   "source": [
    "#Handle outliers"
   ]
  },
  {
   "cell_type": "code",
   "execution_count": 439,
   "metadata": {},
   "outputs": [
    {
     "data": {
      "image/png": "[encoded data removed]",
      "text/plain": [
       "<Figure size 640x480 with 1 Axes>"
      ]
     },
     "metadata": {},
     "output_type": "display_data"
    },
    {
     "data": {
      "image/png": "[encoded data removed]",
      "text/plain": [
       "<Figure size 640x480 with 1 Axes>"
      ]
     },
     "metadata": {},
     "output_type": "display_data"
    },
    {
     "data": {
      "image/png": "[encoded data removed]",
      "text/plain": [
       "<Figure size 640x480 with 1 Axes>"
      ]
     },
     "metadata": {},
     "output_type": "display_data"
    },
    {
     "data": {
      "image/png": "[encoded data removed]",
      "text/plain": [
       "<Figure size 640x480 with 1 Axes>"
      ]
     },
     "metadata": {},
     "output_type": "display_data"
    },
    {
     "data": {
      "image/png": "[encoded data removed]",
      "text/plain": [
       "<Figure size 640x480 with 1 Axes>"
      ]
     },
     "metadata": {},
     "output_type": "display_data"
    }
   ],
   "source": [
    "# create box plots for all numeric columns using for loop and subplot\n",
    "sns.boxplot(x=data['oldpeak'],color=\"pink\")\n",
    "plt.show()\n",
    "sns.boxplot(x=data['thalch'],color=\"deeppink\")\n",
    "plt.show()\n",
    "sns.boxplot(x=data['chol'],color=\"#d393be\")\n",
    "plt.show()\n",
    "sns.boxplot(x=data['trestbps'],color=\"#e49d5c\")\n",
    "plt.show()\n",
    "sns.boxplot(x=data['age'],color=\"#8b3e8b\")\n",
    "plt.show()"
   ]
  },
  {
   "cell_type": "code",
   "execution_count": 440,
   "metadata": {},
   "outputs": [],
   "source": [
    "#ML: Decision tree"
   ]
  },
  {
   "cell_type": "code",
   "execution_count": 441,
   "metadata": {},
   "outputs": [
    {
     "name": "stdout",
     "output_type": "stream",
     "text": [
      "Accuracy score:  0.6413043478260869\n",
      "Precision score:  0.6413043478260869\n",
      "Recall score:  0.6413043478260869\n",
      "F1 score:  0.6413043478260869\n"
     ]
    }
   ],
   "source": [
    "#train test split\n",
    "X = data.drop('num', axis=1)\n",
    "y = data['num']\n",
    "le = LabelEncoder()\n",
    "for col in X.columns:\n",
    "    if X[col].dtype == 'object' or X[col].dtype == 'category':\n",
    "        X[col] = le.fit_transform(X[col])\n",
    "\n",
    "\n",
    "# split the data into train and test sets\n",
    "X_train, X_test, y_train, y_test = train_test_split(X, y, test_size=0.2 , random_state=42)\n",
    "\n",
    "# train the decision tree model\n",
    "dt = DecisionTreeClassifier(max_depth=5, random_state=42)\n",
    "dt.fit(X_train, y_train)\n",
    "\n",
    "# predict the test data\n",
    "y_pred = dt.predict(X_test)\n",
    "\n",
    "print('Accuracy score: ', accuracy_score(y_test, y_pred))\n",
    "print('Precision score: ', precision_score(y_test, y_pred, average='micro'))\n",
    "print('Recall score: ', recall_score(y_test, y_pred, average='micro'))\n",
    "print('F1 score: ', f1_score(y_test, y_pred, average='micro'))"
   ]
  },
  {
   "cell_type": "code",
   "execution_count": 442,
   "metadata": {},
   "outputs": [
    {
     "name": "stdout",
     "output_type": "stream",
     "text": [
      "The patient has moderate heart disease\n"
     ]
    }
   ],
   "source": [
    "input = (1, 63, \"Male\", \"Cleveland\", \"typical angina\", 145, 233, True, \"lv hypertrophy\", 150, False, 2.3, \"downsloping\", 0, \"fixed defect\")\n",
    "#change the input data -> numpy array\n",
    "input_np= np.asarray(input)\n",
    "#\n",
    "input_data=pd.DataFrame([input_np],columns=X.columns)\n",
    "#enconde input array\n",
    "for col in input_data.columns:\n",
    "    if input_data[col].dtype == 'object' or input_data[col].dtype == 'category':\n",
    "        input_data[col] = le.fit_transform(input_data[col])\n",
    "\n",
    "#reshaped \n",
    "input_data_reshaped = input_data.values.reshape(1, -1)\n",
    "#predict\n",
    "predict2=dt.predict(input_data_reshaped)\n",
    "if predict2[0]==0:\n",
    "    print('The patient does not have heart disease')\n",
    "elif predict2[0]==1:\n",
    "    print('The patient has mild heart disease')\n",
    "elif predict2[0]==2:\n",
    "    print('The patient has moderate heart disease')\n",
    "elif predict2[0]==3:\n",
    "    print('The patient has severe heart disease')\n",
    "else:\n",
    "    print('The patient very severe or chronic heart disease')"
   ]
  },
  {
   "cell_type": "code",
   "execution_count": 443,
   "metadata": {},
   "outputs": [],
   "source": [
    "#ML:Linear Regression"
   ]
  },
  {
   "cell_type": "code",
   "execution_count": 444,
   "metadata": {},
   "outputs": [
    {
     "name": "stdout",
     "output_type": "stream",
     "text": [
      "Accuracy score:  0.4945652173913043\n",
      "Precision score:  0.4945652173913043\n",
      "Recall score:  0.4945652173913043\n",
      "F1 score:  0.4945652173913043\n"
     ]
    }
   ],
   "source": [
    "lr=LogisticRegression(random_state=42)\n",
    "lr.fit(X_train,y_train)\n",
    "y_pred2 = lr.predict(X_test)\n",
    "\n",
    "print('Accuracy score: ', accuracy_score(y_test, y_pred2))\n",
    "print('Precision score: ', precision_score(y_test, y_pred2, average='micro'))\n",
    "print('Recall score: ', recall_score(y_test, y_pred2, average='micro'))\n",
    "print('F1 score: ', f1_score(y_test, y_pred2, average='micro'))"
   ]
  },
  {
   "cell_type": "code",
   "execution_count": 445,
   "metadata": {},
   "outputs": [],
   "source": [
    "#Random forest"
   ]
  },
  {
   "cell_type": "code",
   "execution_count": 446,
   "metadata": {},
   "outputs": [
    {
     "name": "stdout",
     "output_type": "stream",
     "text": [
      "Accuracy score:  0.6413043478260869\n",
      "Precision score:  0.6413043478260869\n",
      "Recall score:  0.6413043478260869\n",
      "F1 score:  0.6413043478260869\n"
     ]
    }
   ],
   "source": [
    "rf = RandomForestClassifier(n_estimators=100, random_state=42)\n",
    "rf.fit(X_train, y_train)\n",
    "\n",
    "# predict the test data\n",
    "y_pred3 = rf.predict(X_test)\n",
    "\n",
    "print('Accuracy score: ', accuracy_score(y_test, y_pred3))\n",
    "print('Precision score: ', precision_score(y_test, y_pred3, average='micro'))\n",
    "print('Recall score: ', recall_score(y_test, y_pred3, average='micro'))\n",
    "print('F1 score: ', f1_score(y_test, y_pred3, average='micro'))"
   ]
  },
  {
   "cell_type": "code",
   "execution_count": 447,
   "metadata": {},
   "outputs": [
    {
     "data": {
      "image/png": "[encoded data removed]",
      "text/plain": [
       "<Figure size 2000x500 with 3 Axes>"
      ]
     },
     "metadata": {},
     "output_type": "display_data"
    }
   ],
   "source": [
    "\n",
    "\n",
    "\n",
    "\n",
    "# Màu sắc cho các cột\n",
    "colors = ['pink', 'deeppink', 'black', 'purple']  # Xanh dương, cam, xanh lá, đỏ\n",
    "\n",
    "plt.figure(figsize=(20, 5))\n",
    "\n",
    "# Biểu đồ con thứ nhất - Decision Tree\n",
    "plt.subplot(1, 4, 1)\n",
    "sns.barplot(x=['Accuracy', 'Precision', 'Recall', 'F1'], \n",
    "            y=[accuracy_score(y_test, y_pred), \n",
    "               precision_score(y_test, y_pred, average='micro'), \n",
    "               recall_score(y_test, y_pred, average='micro'), \n",
    "               f1_score(y_test, y_pred, average='micro')],\n",
    "            palette=colors)\n",
    "plt.title('Decision Tree')\n",
    "\n",
    "# Biểu đồ con thứ hai - Logistic Regression\n",
    "plt.subplot(1, 4, 2)\n",
    "sns.barplot(x=['Accuracy', 'Precision', 'Recall', 'F1'], \n",
    "            y=[accuracy_score(y_test, y_pred2), \n",
    "               precision_score(y_test, y_pred2, average='micro'), \n",
    "               recall_score(y_test, y_pred2, average='micro'), \n",
    "               f1_score(y_test, y_pred2, average='micro')],\n",
    "            palette=colors)\n",
    "plt.title('Logistic Regression')\n",
    "\n",
    "# Biểu đồ con thứ ba - Random Forest\n",
    "plt.subplot(1, 4, 3)\n",
    "sns.barplot(x=['Accuracy', 'Precision', 'Recall', 'F1'], \n",
    "            y=[accuracy_score(y_test, y_pred3), \n",
    "               precision_score(y_test, y_pred3, average='micro'), \n",
    "               recall_score(y_test, y_pred3, average='micro'), \n",
    "               f1_score(y_test, y_pred3, average='micro')],\n",
    "            palette=colors)\n",
    "plt.title('Random Forest')\n",
    "\n",
    "# Điều chỉnh bố cục để tránh trùng lặp các thành phần\n",
    "plt.tight_layout()\n",
    "plt.show()\n"
   ]
  },
  {
   "cell_type": "code",
   "execution_count": null,
   "metadata": {},
   "outputs": [],
   "source": []
  },
  {
   "cell_type": "code",
   "execution_count": null,
   "metadata": {},
   "outputs": [],
   "source": []
  },
  {
   "cell_type": "code",
   "execution_count": null,
   "metadata": {},
   "outputs": [],
   "source": []
  },
  {
   "cell_type": "code",
   "execution_count": null,
   "metadata": {},
   "outputs": [],
   "source": []
  },
  {
   "cell_type": "code",
   "execution_count": null,
   "metadata": {},
   "outputs": [],
   "source": []
  },
  {
   "cell_type": "code",
   "execution_count": null,
   "metadata": {},
   "outputs": [],
   "source": []
  },
  {
   "cell_type": "code",
   "execution_count": null,
   "metadata": {},
   "outputs": [],
   "source": []
  },
  {
   "cell_type": "code",
   "execution_count": null,
   "metadata": {},
   "outputs": [],
   "source": []
  },
  {
   "cell_type": "code",
   "execution_count": null,
   "metadata": {},
   "outputs": [],
   "source": []
  },
  {
   "cell_type": "code",
   "execution_count": null,
   "metadata": {},
   "outputs": [],
   "source": []
  },
  {
   "cell_type": "code",
   "execution_count": null,
   "metadata": {},
   "outputs": [],
   "source": []
  },
  {
   "cell_type": "code",
   "execution_count": null,
   "metadata": {},
   "outputs": [],
   "source": []
  },
  {
   "cell_type": "code",
   "execution_count": null,
   "metadata": {},
   "outputs": [],
   "source": []
  }
 ],
 "metadata": {
  "kernelspec": {
   "display_name": "Python 3",
   "language": "python",
   "name": "python3"
  },
  "language_info": {
   "codemirror_mode": {
    "name": "ipython",
    "version": 3
   },
   "file_extension": ".py",
   "mimetype": "text/x-python",
   "name": "python",
   "nbconvert_exporter": "python",
   "pygments_lexer": "ipython3",
   "version": "3.12.5"
  }
 },
 "nbformat": 4,
 "nbformat_minor": 2
}
